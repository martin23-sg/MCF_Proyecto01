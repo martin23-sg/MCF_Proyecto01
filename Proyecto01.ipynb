{
 "cells": [
  {
   "cell_type": "code",
   "execution_count": 36,
   "metadata": {},
   "outputs": [
    {
     "name": "stderr",
     "output_type": "stream",
     "text": [
      "\n",
      "[notice] A new release of pip is available: 24.3.1 -> 25.0.1\n",
      "[notice] To update, run: python.exe -m pip install --upgrade pip\n"
     ]
    },
    {
     "name": "stdout",
     "output_type": "stream",
     "text": [
      "Requirement already satisfied: plotly in c:\\users\\martin\\appdata\\local\\programs\\python\\python313\\lib\\site-packages (6.0.1)\n",
      "Requirement already satisfied: narwhals>=1.15.1 in c:\\users\\martin\\appdata\\local\\programs\\python\\python313\\lib\\site-packages (from plotly) (1.29.1)\n",
      "Requirement already satisfied: packaging in c:\\users\\martin\\appdata\\local\\programs\\python\\python313\\lib\\site-packages (from plotly) (24.2)\n",
      "Note: you may need to restart the kernel to use updated packages.\n"
     ]
    }
   ],
   "source": [
    "%pip install plotly\n",
    "import streamlit as st\n",
    "import pandas as pd\n",
    "import numpy as np\n",
    "import plotly.express as px\n",
    "import Funciones_MCF as MCF\n",
    "from scipy.stats import kurtosis, skew, norm, t"
   ]
  },
  {
   "cell_type": "markdown",
   "metadata": {
    "vscode": {
     "languageId": "latex"
    }
   },
   "source": [
    "# Proyecto 01 - Métricas de Riesgo"
   ]
  },
  {
   "cell_type": "markdown",
   "metadata": {},
   "source": [
    "## Integrantes\n",
    "- Alix Sue Rangel Mondragón\n",
    "<br>\n",
    "- Edgar Giovanny Caravantes Román\n",
    "<br>\n",
    "- Huitzil Sánchez Martínez\n",
    "<br>\n",
    "- Martín Sierra González"
   ]
  },
  {
   "cell_type": "markdown",
   "metadata": {},
   "source": [
    "## Activo elegido: IPC México"
   ]
  },
  {
   "cell_type": "markdown",
   "metadata": {},
   "source": [
    "**(a)**  Cargar y/o descargar datos de alguna fuente de información financiera. Una parte importante es la descarga de información y donde encontrarla, en clase vimos como conectarse a Yahoo Finance. Si quieres alcanzar los 5 puntos de esta pregunta descarga la información de Yahoo Finance de manera\n",
    "automática del activo financiero de tu elección desde 2010 ( ́ındice accionario, precio de una acción, precio de una materia prima, (cripto)moneda, etc), en el reporte describe el activo que de tu elección."
   ]
  },
  {
   "cell_type": "code",
   "execution_count": 4,
   "metadata": {},
   "outputs": [
    {
     "name": "stderr",
     "output_type": "stream",
     "text": [
      "[*********************100%***********************]  1 of 1 completed\n"
     ]
    },
    {
     "data": {
      "text/html": [
       "<div>\n",
       "<style scoped>\n",
       "    .dataframe tbody tr th:only-of-type {\n",
       "        vertical-align: middle;\n",
       "    }\n",
       "\n",
       "    .dataframe tbody tr th {\n",
       "        vertical-align: top;\n",
       "    }\n",
       "\n",
       "    .dataframe thead th {\n",
       "        text-align: right;\n",
       "    }\n",
       "</style>\n",
       "<table border=\"1\" class=\"dataframe\">\n",
       "  <thead>\n",
       "    <tr style=\"text-align: right;\">\n",
       "      <th>Ticker</th>\n",
       "      <th>^MXX</th>\n",
       "    </tr>\n",
       "    <tr>\n",
       "      <th>Date</th>\n",
       "      <th></th>\n",
       "    </tr>\n",
       "  </thead>\n",
       "  <tbody>\n",
       "    <tr>\n",
       "      <th>2010-01-04</th>\n",
       "      <td>32758.529297</td>\n",
       "    </tr>\n",
       "    <tr>\n",
       "      <th>2010-01-05</th>\n",
       "      <td>32732.759766</td>\n",
       "    </tr>\n",
       "    <tr>\n",
       "      <th>2010-01-06</th>\n",
       "      <td>32830.160156</td>\n",
       "    </tr>\n",
       "    <tr>\n",
       "      <th>2010-01-07</th>\n",
       "      <td>33064.570312</td>\n",
       "    </tr>\n",
       "    <tr>\n",
       "      <th>2010-01-08</th>\n",
       "      <td>32892.039062</td>\n",
       "    </tr>\n",
       "    <tr>\n",
       "      <th>...</th>\n",
       "      <td>...</td>\n",
       "    </tr>\n",
       "    <tr>\n",
       "      <th>2025-03-27</th>\n",
       "      <td>53477.738281</td>\n",
       "    </tr>\n",
       "    <tr>\n",
       "      <th>2025-03-28</th>\n",
       "      <td>53172.968750</td>\n",
       "    </tr>\n",
       "    <tr>\n",
       "      <th>2025-03-31</th>\n",
       "      <td>52484.429688</td>\n",
       "    </tr>\n",
       "    <tr>\n",
       "      <th>2025-04-01</th>\n",
       "      <td>53337.898438</td>\n",
       "    </tr>\n",
       "    <tr>\n",
       "      <th>2025-04-02</th>\n",
       "      <td>53800.929688</td>\n",
       "    </tr>\n",
       "  </tbody>\n",
       "</table>\n",
       "<p>3824 rows × 1 columns</p>\n",
       "</div>"
      ],
      "text/plain": [
       "Ticker              ^MXX\n",
       "Date                    \n",
       "2010-01-04  32758.529297\n",
       "2010-01-05  32732.759766\n",
       "2010-01-06  32830.160156\n",
       "2010-01-07  33064.570312\n",
       "2010-01-08  32892.039062\n",
       "...                  ...\n",
       "2025-03-27  53477.738281\n",
       "2025-03-28  53172.968750\n",
       "2025-03-31  52484.429688\n",
       "2025-04-01  53337.898438\n",
       "2025-04-02  53800.929688\n",
       "\n",
       "[3824 rows x 1 columns]"
      ]
     },
     "execution_count": 4,
     "metadata": {},
     "output_type": "execute_result"
    }
   ],
   "source": [
    "stock = '^MXX'\n",
    "df_precios = MCF.obtener_datos_2010(stock)\n",
    "df_precios"
   ]
  },
  {
   "cell_type": "markdown",
   "metadata": {},
   "source": [
    "**(b)** Calcula los rendimientos diarios del activo financiero, reporta dentro del Streamlit la media, sesgo y exceso de curtosis. Puedes usar Excel u otras herramientas para comprobar tus resultados pero tu código debe de ser capaz de presentar estos resultados."
   ]
  },
  {
   "cell_type": "code",
   "execution_count": 5,
   "metadata": {},
   "outputs": [
    {
     "data": {
      "text/html": [
       "<div>\n",
       "<style scoped>\n",
       "    .dataframe tbody tr th:only-of-type {\n",
       "        vertical-align: middle;\n",
       "    }\n",
       "\n",
       "    .dataframe tbody tr th {\n",
       "        vertical-align: top;\n",
       "    }\n",
       "\n",
       "    .dataframe thead th {\n",
       "        text-align: right;\n",
       "    }\n",
       "</style>\n",
       "<table border=\"1\" class=\"dataframe\">\n",
       "  <thead>\n",
       "    <tr style=\"text-align: right;\">\n",
       "      <th>Ticker</th>\n",
       "      <th>^MXX</th>\n",
       "    </tr>\n",
       "    <tr>\n",
       "      <th>Date</th>\n",
       "      <th></th>\n",
       "    </tr>\n",
       "  </thead>\n",
       "  <tbody>\n",
       "    <tr>\n",
       "      <th>2010-01-05</th>\n",
       "      <td>-0.000787</td>\n",
       "    </tr>\n",
       "    <tr>\n",
       "      <th>2010-01-06</th>\n",
       "      <td>0.002976</td>\n",
       "    </tr>\n",
       "    <tr>\n",
       "      <th>2010-01-07</th>\n",
       "      <td>0.007140</td>\n",
       "    </tr>\n",
       "    <tr>\n",
       "      <th>2010-01-08</th>\n",
       "      <td>-0.005218</td>\n",
       "    </tr>\n",
       "    <tr>\n",
       "      <th>2010-01-11</th>\n",
       "      <td>0.001318</td>\n",
       "    </tr>\n",
       "    <tr>\n",
       "      <th>...</th>\n",
       "      <td>...</td>\n",
       "    </tr>\n",
       "    <tr>\n",
       "      <th>2025-03-27</th>\n",
       "      <td>0.012704</td>\n",
       "    </tr>\n",
       "    <tr>\n",
       "      <th>2025-03-28</th>\n",
       "      <td>-0.005699</td>\n",
       "    </tr>\n",
       "    <tr>\n",
       "      <th>2025-03-31</th>\n",
       "      <td>-0.012949</td>\n",
       "    </tr>\n",
       "    <tr>\n",
       "      <th>2025-04-01</th>\n",
       "      <td>0.016261</td>\n",
       "    </tr>\n",
       "    <tr>\n",
       "      <th>2025-04-02</th>\n",
       "      <td>0.008681</td>\n",
       "    </tr>\n",
       "  </tbody>\n",
       "</table>\n",
       "<p>3823 rows × 1 columns</p>\n",
       "</div>"
      ],
      "text/plain": [
       "Ticker          ^MXX\n",
       "Date                \n",
       "2010-01-05 -0.000787\n",
       "2010-01-06  0.002976\n",
       "2010-01-07  0.007140\n",
       "2010-01-08 -0.005218\n",
       "2010-01-11  0.001318\n",
       "...              ...\n",
       "2025-03-27  0.012704\n",
       "2025-03-28 -0.005699\n",
       "2025-03-31 -0.012949\n",
       "2025-04-01  0.016261\n",
       "2025-04-02  0.008681\n",
       "\n",
       "[3823 rows x 1 columns]"
      ]
     },
     "execution_count": 5,
     "metadata": {},
     "output_type": "execute_result"
    }
   ],
   "source": [
    "df_rendimientos = MCF.calcular_rendimientos(df_precios)\n",
    "df_rendimientos"
   ]
  },
  {
   "cell_type": "code",
   "execution_count": 9,
   "metadata": {},
   "outputs": [
    {
     "data": {
      "text/html": [
       "<div>\n",
       "<style scoped>\n",
       "    .dataframe tbody tr th:only-of-type {\n",
       "        vertical-align: middle;\n",
       "    }\n",
       "\n",
       "    .dataframe tbody tr th {\n",
       "        vertical-align: top;\n",
       "    }\n",
       "\n",
       "    .dataframe thead th {\n",
       "        text-align: right;\n",
       "    }\n",
       "</style>\n",
       "<table border=\"1\" class=\"dataframe\">\n",
       "  <thead>\n",
       "    <tr style=\"text-align: right;\">\n",
       "      <th></th>\n",
       "      <th>Activo</th>\n",
       "      <th>Rendimiento Medio Diario</th>\n",
       "      <th>Sesgo</th>\n",
       "      <th>Curtosis</th>\n",
       "    </tr>\n",
       "  </thead>\n",
       "  <tbody>\n",
       "    <tr>\n",
       "      <th>0</th>\n",
       "      <td>^MXX</td>\n",
       "      <td>0.000177</td>\n",
       "      <td>-0.339403</td>\n",
       "      <td>3.229085</td>\n",
       "    </tr>\n",
       "  </tbody>\n",
       "</table>\n",
       "</div>"
      ],
      "text/plain": [
       "  Activo  Rendimiento Medio Diario     Sesgo  Curtosis\n",
       "0   ^MXX                  0.000177 -0.339403  3.229085"
      ]
     },
     "execution_count": 9,
     "metadata": {},
     "output_type": "execute_result"
    }
   ],
   "source": [
    "promedio_rendi_diario = df_rendimientos[stock].mean()\n",
    "curtosis = kurtosis(df_rendimientos[stock])\n",
    "sesgo = skew(df_rendimientos[stock])\n",
    "\n",
    "met_estad = {'Activo':[stock],'Rendimiento Medio Diario': [promedio_rendi_diario], 'Sesgo': [sesgo], 'Curtosis': [curtosis]}\n",
    "df_met_estad = pd.DataFrame(met_estad)\n",
    "df_met_estad"
   ]
  },
  {
   "cell_type": "markdown",
   "metadata": {},
   "source": [
    "En este caso, del valor del sesgo observamos que los rendimientos del IPC tienen una distribución cuya cola izquierda es más larga y pesada que la cola derecha. Asimismo, del valor de la curtosis, tenemos que la distribución tiene menos concentración alrededor de la media y por ende, colas más pesadas que una distribución normal."
   ]
  },
  {
   "cell_type": "markdown",
   "metadata": {},
   "source": [
    "**(c)**  Calcula el VaR y ES para la serie completa de datos a los siguientes intervalos de confianza: $α$ = 0,95, 0,975, y 0,99 bajo una aproximación paramétrica asumiendo una distribución normal y t-student, además bajo una aproximación histórica y Monte Carlo. Muestra tus resultados en una tabla en el reporte."
   ]
  },
  {
   "cell_type": "code",
   "execution_count": null,
   "metadata": {},
   "outputs": [],
   "source": [
    "#Cálculo de las métricas de riesgo\n",
    "\n",
    "n_sims = 100000 #Número de simulaciones Monte Carlo\n",
    "\n",
    "VaR_normal = [MCF.calcular_VaR_normal(0.95, df_rendimientos[stock]), MCF.calcular_VaR_normal(0.975, df_rendimientos[stock]), MCF.calcular_VaR_normal(0.99, df_rendimientos[stock])]\n",
    "VaR_t = [MCF.calcular_VaR_t(0.95, df_rendimientos[stock]), MCF.calcular_VaR_t(0.975, df_rendimientos[stock]), MCF.calcular_VaR_t(0.99, df_rendimientos[stock])]\n",
    "VaR_h = [MCF.calcular_VaR_historico(0.95, df_rendimientos[stock]), MCF.calcular_VaR_historico(0.975, df_rendimientos[stock]), MCF.calcular_VaR_historico(0.99, df_rendimientos[stock])]\n",
    "VaR_MC_n = [MCF.calcular_VaR_MC_normal(0.95, df_rendimientos[stock],n_sims), MCF.calcular_VaR_MC_normal(0.975, df_rendimientos[stock],n_sims), MCF.calcular_VaR_MC_normal(0.99, df_rendimientos[stock],n_sims)]\n",
    "VaR_MC_t = [MCF.calcular_VaR_MC_t(0.95, df_rendimientos[stock], n_sims), MCF.calcular_VaR_MC_t(0.975, df_rendimientos[stock],n_sims), MCF.calcular_VaR_MC_t(0.99, df_rendimientos[stock],n_sims)]\n",
    "ES_normal = [MCF.calcular_ES(VaR_normal[0], df_rendimientos[stock]), MCF.calcular_ES(VaR_normal[1], df_rendimientos[stock]), MCF.calcular_ES(VaR_normal[2], df_rendimientos[stock])]\n",
    "ES_t = [MCF.calcular_ES(VaR_t[0], df_rendimientos[stock]), MCF.calcular_ES(VaR_t[1], df_rendimientos[stock]), MCF.calcular_ES(VaR_t[2], df_rendimientos[stock])]\n",
    "ES_h = [MCF.calcular_ES(VaR_h[0], df_rendimientos[stock]), MCF.calcular_ES(VaR_h[1], df_rendimientos[stock]), MCF.calcular_ES(VaR_h[2], df_rendimientos[stock])]\n",
    "ES_MC_n = [MCF.calcular_ES(VaR_MC_n[0], df_rendimientos[stock]), MCF.calcular_ES(VaR_MC_n[1], df_rendimientos[stock]), MCF.calcular_ES(VaR_MC_n[2], df_rendimientos[stock])]\n",
    "ES_MC_t = [MCF.calcular_ES(VaR_MC_t[0], df_rendimientos[stock]), MCF.calcular_ES(VaR_MC_t[1], df_rendimientos[stock]), MCF.calcular_ES(VaR_MC_t[2], df_rendimientos[stock])]"
   ]
  },
  {
   "cell_type": "code",
   "execution_count": 20,
   "metadata": {},
   "outputs": [
    {
     "data": {
      "text/html": [
       "<div>\n",
       "<style scoped>\n",
       "    .dataframe tbody tr th:only-of-type {\n",
       "        vertical-align: middle;\n",
       "    }\n",
       "\n",
       "    .dataframe tbody tr th {\n",
       "        vertical-align: top;\n",
       "    }\n",
       "\n",
       "    .dataframe thead th {\n",
       "        text-align: right;\n",
       "    }\n",
       "</style>\n",
       "<table border=\"1\" class=\"dataframe\">\n",
       "  <thead>\n",
       "    <tr style=\"text-align: right;\">\n",
       "      <th></th>\n",
       "      <th>VaR normal</th>\n",
       "      <th>VaR t-student</th>\n",
       "      <th>VaR histórico</th>\n",
       "      <th>VaR MC normal</th>\n",
       "      <th>VaR MC t</th>\n",
       "      <th>ES normal</th>\n",
       "      <th>ES t-student</th>\n",
       "      <th>ES histórico</th>\n",
       "      <th>ES MC normal</th>\n",
       "      <th>ES MC t</th>\n",
       "    </tr>\n",
       "  </thead>\n",
       "  <tbody>\n",
       "    <tr>\n",
       "      <th>0</th>\n",
       "      <td>-0.015816</td>\n",
       "      <td>-0.014971</td>\n",
       "      <td>-0.015410</td>\n",
       "      <td>-0.015751</td>\n",
       "      <td>-0.014897</td>\n",
       "      <td>-0.022624</td>\n",
       "      <td>-0.021840</td>\n",
       "      <td>-0.022185</td>\n",
       "      <td>-0.022549</td>\n",
       "      <td>-0.021739</td>\n",
       "    </tr>\n",
       "    <tr>\n",
       "      <th>1</th>\n",
       "      <td>-0.018880</td>\n",
       "      <td>-0.019194</td>\n",
       "      <td>-0.019602</td>\n",
       "      <td>-0.018778</td>\n",
       "      <td>-0.019113</td>\n",
       "      <td>-0.026357</td>\n",
       "      <td>-0.026794</td>\n",
       "      <td>-0.027181</td>\n",
       "      <td>-0.026287</td>\n",
       "      <td>-0.026719</td>\n",
       "    </tr>\n",
       "    <tr>\n",
       "      <th>2</th>\n",
       "      <td>-0.022442</td>\n",
       "      <td>-0.025251</td>\n",
       "      <td>-0.024370</td>\n",
       "      <td>-0.022652</td>\n",
       "      <td>-0.024923</td>\n",
       "      <td>-0.032145</td>\n",
       "      <td>-0.037995</td>\n",
       "      <td>-0.035312</td>\n",
       "      <td>-0.032329</td>\n",
       "      <td>-0.036527</td>\n",
       "    </tr>\n",
       "  </tbody>\n",
       "</table>\n",
       "</div>"
      ],
      "text/plain": [
       "   VaR normal  VaR t-student  VaR histórico  VaR MC normal  VaR MC t  \\\n",
       "0   -0.015816      -0.014971      -0.015410      -0.015751 -0.014897   \n",
       "1   -0.018880      -0.019194      -0.019602      -0.018778 -0.019113   \n",
       "2   -0.022442      -0.025251      -0.024370      -0.022652 -0.024923   \n",
       "\n",
       "   ES normal  ES t-student  ES histórico  ES MC normal   ES MC t  \n",
       "0  -0.022624     -0.021840     -0.022185     -0.022549 -0.021739  \n",
       "1  -0.026357     -0.026794     -0.027181     -0.026287 -0.026719  \n",
       "2  -0.032145     -0.037995     -0.035312     -0.032329 -0.036527  "
      ]
     },
     "execution_count": 20,
     "metadata": {},
     "output_type": "execute_result"
    }
   ],
   "source": [
    "metricas= {'VaR normal': VaR_normal, 'VaR t-student': VaR_t, 'VaR histórico': VaR_h, 'VaR MC normal': VaR_MC_n, \\\n",
    "              'VaR MC t': VaR_MC_t, 'ES normal': ES_normal, 'ES t-student': ES_t, 'ES histórico': ES_h, \\\n",
    "                'ES MC normal': ES_MC_n, 'ES MC t': ES_MC_t}\n",
    "met_riesgo = pd.DataFrame(metricas)\n",
    "met_riesgo"
   ]
  },
  {
   "cell_type": "markdown",
   "metadata": {},
   "source": [
    "**(d)** En el mercado, el VaR y el ES son las medidas populares para medir el riesgo de una cartera o un activo, sin embargo, es común ver que usan rolling windows, i.e. fijar una ventana de X días y con esos datos calcular el VaR o ES del día X + 1, ejemplo: con una ventana de 252 retornos $(r_{1}, r_{2}, ..., r_{252})$ calculas el $VaR_{α}$ asociado al retorno 253, ahora el $VaR_{α}$ asociado al retorno 254 viene del conjunto de datos $(r_{2}, r_{3}, ..., r_{253})$, etc. Con esto en mente en una sola gráfica muestra las ganancias y pérdidas además del VaR y el ES con α = 0,95 y 0,99 con una rolling window de 252 retornos."
   ]
  },
  {
   "cell_type": "code",
   "execution_count": 41,
   "metadata": {},
   "outputs": [],
   "source": [
    "ventana = 252 #Ventana para rolling window\n",
    "tipos =[\"Normal\", \"Histórico\"] #Tipos de método para calcular VaR y ES en Rolling Window\n",
    "\n",
    "## Generación de los Rolling Windows:\n",
    "\n",
    "#Bajo Distribución Normal\n",
    "VaR_95_normal, ES_95_normal = MCF.generar_RW(ventana,0.95,df_rendimientos[stock], tipo = tipos[0])\n",
    "VaR_99_normal, ES_99_normal = MCF.generar_RW(ventana,0.99,df_rendimientos[stock], tipo = tipos[0])\n",
    "\n",
    "#Bajo Aproximación histórica\n",
    "VaR_95_historico, ES_95_historico = MCF.generar_RW(ventana,0.95,df_rendimientos[stock], tipo = tipos[1])\n",
    "VaR_99_historico, ES_99_historico = MCF.generar_RW(ventana,0.99,df_rendimientos[stock], tipo = tipos[1])\n",
    "\n"
   ]
  },
  {
   "cell_type": "markdown",
   "metadata": {},
   "source": [
    "**Nota:** La gráfica se puede visualizar en el Dashboard de Streamlit"
   ]
  },
  {
   "cell_type": "markdown",
   "metadata": {},
   "source": [
    "**(e)** Finalmente, para saber la eficiencia de nuestras estimaciones calcularemos el número de veces que la pérdida fue superior a la estimación usando Var o ES. En una tabla reporta el número de violaciones y como porcentaje del tamaño de la muestra para cada nivel de confianza y cada medida de riesgo. Tu código debe generar esos resultados por si solo. **Nota: Una buena estimación genera un porcentaje de violaciones menores al 2.5 %**."
   ]
  },
  {
   "cell_type": "code",
   "execution_count": 42,
   "metadata": {},
   "outputs": [],
   "source": [
    "# Número de violaciones:\n",
    "n_viol_95_normal =len(df_rendimientos[stock][df_rendimientos[stock]<df_rendimientos['VaR_95_normal']])\n",
    "n_viol_99_normal = len(df_rendimientos[stock][df_rendimientos[stock]<df_rendimientos['VaR_99_normal']])\n",
    "n_viol_95_historico = len(df_rendimientos[stock][df_rendimientos[stock]<df_rendimientos['VaR_95_historico']])\n",
    "n_viol_99_historico = len(df_rendimientos[stock][df_rendimientos[stock]<df_rendimientos['VaR_99_historico']])\n",
    "\n",
    "# Porcentaje de violaciones:\n",
    "tamaño = len(df_rendimientos)\n",
    "p_viol_95_normal = n_viol_95_normal / tamaño\n",
    "p_viol_99_normal = n_viol_99_normal / tamaño\n",
    "p_viol_95_historico = n_viol_95_historico / tamaño\n",
    "p_viol_99_historico = n_viol_99_historico / tamaño"
   ]
  },
  {
   "cell_type": "code",
   "execution_count": 53,
   "metadata": {},
   "outputs": [
    {
     "data": {
      "text/html": [
       "<div>\n",
       "<style scoped>\n",
       "    .dataframe tbody tr th:only-of-type {\n",
       "        vertical-align: middle;\n",
       "    }\n",
       "\n",
       "    .dataframe tbody tr th {\n",
       "        vertical-align: top;\n",
       "    }\n",
       "\n",
       "    .dataframe thead th {\n",
       "        text-align: right;\n",
       "    }\n",
       "</style>\n",
       "<table border=\"1\" class=\"dataframe\">\n",
       "  <thead>\n",
       "    <tr style=\"text-align: right;\">\n",
       "      <th></th>\n",
       "      <th>Número violaciones (normal 0.95)</th>\n",
       "      <th>Porcentaje (normal 0.95)</th>\n",
       "      <th>Número violaciones (normal 0.99)</th>\n",
       "      <th>Número violaciones (histórico 0.95)</th>\n",
       "      <th>Pocentaje (histórico0.95</th>\n",
       "      <th>Número violaciones (histórico 0.99)</th>\n",
       "      <th>Porcentaje (histórico 0.99)</th>\n",
       "    </tr>\n",
       "  </thead>\n",
       "  <tbody>\n",
       "    <tr>\n",
       "      <th>0</th>\n",
       "      <td>190</td>\n",
       "      <td>1.621763</td>\n",
       "      <td>62</td>\n",
       "      <td>200</td>\n",
       "      <td>5.231494</td>\n",
       "      <td>48</td>\n",
       "      <td>1.255558</td>\n",
       "    </tr>\n",
       "  </tbody>\n",
       "</table>\n",
       "</div>"
      ],
      "text/plain": [
       "   Número violaciones (normal 0.95)  Porcentaje (normal 0.95)  \\\n",
       "0                               190                  1.621763   \n",
       "\n",
       "   Número violaciones (normal 0.99)  Número violaciones (histórico 0.95)  \\\n",
       "0                                62                                  200   \n",
       "\n",
       "   Pocentaje (histórico0.95  Número violaciones (histórico 0.99)  \\\n",
       "0                  5.231494                                   48   \n",
       "\n",
       "   Porcentaje (histórico 0.99)  \n",
       "0                     1.255558  "
      ]
     },
     "execution_count": 53,
     "metadata": {},
     "output_type": "execute_result"
    }
   ],
   "source": [
    "violaciones = {'Número violaciones (normal 0.95)': [n_viol_95_normal],'Porcentaje (normal 0.95)':[p_viol_95_normal*100], \\\n",
    "               'Número violaciones (normal 0.99)': [n_viol_99_normal], 'Porcentaje (normal 0.95)':[p_viol_99_normal*100],\\\n",
    "               'Número violaciones (histórico 0.95)': [n_viol_95_historico], 'Pocentaje (histórico0.95': [p_viol_95_historico*100],\\\n",
    "                'Número violaciones (histórico 0.99)': [n_viol_99_historico], 'Porcentaje (histórico 0.99)': [p_viol_99_historico*100]}\n",
    "violaciones_VaR = pd.DataFrame(violaciones)\n",
    "violaciones_VaR"
   ]
  },
  {
   "cell_type": "markdown",
   "metadata": {},
   "source": [
    "**(f)** En esta pregunta se estimará el VaR con una volatilidad móvil y asumiendo una distribución normal. Utilizando la misma lógica del rolling windows calcula el VaR para ambos niveles de significancia, grafica tus resultado como en la pregunta (d) y muestra la eficiencia de esta aproximación calculando el número de violaciones como en la pregunta anterior."
   ]
  },
  {
   "cell_type": "markdown",
   "metadata": {},
   "source": [
    "**Nota:** La gráfica se puede visualizar en el Dashboard de Streamlit"
   ]
  },
  {
   "cell_type": "code",
   "execution_count": 47,
   "metadata": {},
   "outputs": [],
   "source": [
    "# Generación de los rolling windows para volatilidad móvil\n",
    "VaR_movil_95 = MCF.generar_RW_VaR_movil(ventana, 0.95, df_rendimientos[stock])\n",
    "VaR_movil_99 = MCF.generar_RW_VaR_movil(ventana, 0.99, df_rendimientos[stock])"
   ]
  },
  {
   "cell_type": "code",
   "execution_count": 51,
   "metadata": {},
   "outputs": [],
   "source": [
    "# Número de violaciones:\n",
    "n_viol_95 =len(df_rendimientos[stock][df_rendimientos[stock]<VaR_movil_95])\n",
    "n_viol_99 = len(df_rendimientos[stock][df_rendimientos[stock]<VaR_movil_99])\n",
    "\n",
    "# Porcentaje de violaciones:\n",
    "tamaño = len(df_rendimientos)\n",
    "p_viol_95 = n_viol_95 / tamaño\n",
    "p_viol_99= n_viol_99 / tamaño\n"
   ]
  },
  {
   "cell_type": "code",
   "execution_count": 54,
   "metadata": {},
   "outputs": [
    {
     "data": {
      "text/html": [
       "<div>\n",
       "<style scoped>\n",
       "    .dataframe tbody tr th:only-of-type {\n",
       "        vertical-align: middle;\n",
       "    }\n",
       "\n",
       "    .dataframe tbody tr th {\n",
       "        vertical-align: top;\n",
       "    }\n",
       "\n",
       "    .dataframe thead th {\n",
       "        text-align: right;\n",
       "    }\n",
       "</style>\n",
       "<table border=\"1\" class=\"dataframe\">\n",
       "  <thead>\n",
       "    <tr style=\"text-align: right;\">\n",
       "      <th></th>\n",
       "      <th>Número violaciones (móvil 0.95)</th>\n",
       "      <th>Porcentaje (móvil 0.95)</th>\n",
       "      <th>Número violaciones (móvil 0.99)</th>\n",
       "      <th>Porcentaje (móvil 0.99)</th>\n",
       "    </tr>\n",
       "  </thead>\n",
       "  <tbody>\n",
       "    <tr>\n",
       "      <th>0</th>\n",
       "      <td>181</td>\n",
       "      <td>4.734502</td>\n",
       "      <td>60</td>\n",
       "      <td>1.569448</td>\n",
       "    </tr>\n",
       "  </tbody>\n",
       "</table>\n",
       "</div>"
      ],
      "text/plain": [
       "   Número violaciones (móvil 0.95)  Porcentaje (móvil 0.95)  \\\n",
       "0                              181                 4.734502   \n",
       "\n",
       "   Número violaciones (móvil 0.99)  Porcentaje (móvil 0.99)  \n",
       "0                               60                 1.569448  "
      ]
     },
     "execution_count": 54,
     "metadata": {},
     "output_type": "execute_result"
    }
   ],
   "source": [
    "VaR_movil = {'Número violaciones (móvil 0.95)': [n_viol_95], 'Porcentaje (móvil 0.95)': [p_viol_95*100],\\\n",
    "             'Número violaciones (móvil 0.99)': [n_viol_99], 'Porcentaje (móvil 0.99)': [p_viol_99*100]}\n",
    "violaciones_movil = pd.DataFrame(VaR_movil)\n",
    "violaciones_movil"
   ]
  },
  {
   "cell_type": "markdown",
   "metadata": {},
   "source": [
    "Con estas últimas tablas, podemos notar que, con el método de volatilidad móvil, el número de violaciones y en consecuencia el porcentaje repectivo, son más bajos, por lo que, en conclusión, resulta eficiente esta aproximación para calcular el VaR."
   ]
  }
 ],
 "metadata": {
  "kernelspec": {
   "display_name": "Python 3",
   "language": "python",
   "name": "python3"
  },
  "language_info": {
   "codemirror_mode": {
    "name": "ipython",
    "version": 3
   },
   "file_extension": ".py",
   "mimetype": "text/x-python",
   "name": "python",
   "nbconvert_exporter": "python",
   "pygments_lexer": "ipython3",
   "version": "3.13.2"
  }
 },
 "nbformat": 4,
 "nbformat_minor": 2
}
